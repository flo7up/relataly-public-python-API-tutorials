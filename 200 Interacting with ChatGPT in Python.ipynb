{
 "cells": [
  {
   "cell_type": "markdown",
   "metadata": {},
   "source": [
    "# Step #1 Imports and API Key"
   ]
  },
  {
   "cell_type": "code",
   "execution_count": 30,
   "metadata": {},
   "outputs": [],
   "source": [
    "import openai\n",
    "import yaml\n",
    "\n",
    "# set the API Key \n",
    "yaml_file = open('API Keys/api_config_openai.yml', 'r')  \n",
    "p = yaml.load(yaml_file, Loader=yaml.FullLoader)\n",
    "openai.api_key = p['api_key']\n",
    "\n",
    "# show available models\n",
    "modellist = openai.Model.list()\n",
    "for i in modellist.data:\n",
    "    print(i.id)"
   ]
  },
  {
   "cell_type": "markdown",
   "metadata": {},
   "source": [
    "# Step #2 Define the Request"
   ]
  },
  {
   "cell_type": "code",
   "execution_count": null,
   "metadata": {},
   "outputs": [],
   "source": [
    "# Define the request\n",
    "def send_openai_request(engine, prompt, max_tokens=1024):\n",
    "    response = openai.Completion.create(\n",
    "        engine=engine,\n",
    "        prompt=prompt,\n",
    "        max_tokens=max_tokens,\n",
    "        n=1,\n",
    "        stop=None,\n",
    "        temperature=0.7\n",
    "    )\n",
    "    return response"
   ]
  },
  {
   "cell_type": "markdown",
   "metadata": {},
   "source": [
    "# Step #3 Send the Request"
   ]
  },
  {
   "cell_type": "code",
   "execution_count": 13,
   "metadata": {},
   "outputs": [
    {
     "name": "stdout",
     "output_type": "stream",
     "text": [
      "\n",
      "\n",
      "OpenAI is a research and development organization dedicated to advancing artificial intelligence (AI) technologies. With OpenAI, you can use AI to develop a wide range of applications, including natural language processing (NLP), computer vision, robotics, reinforcement learning, and more. OpenAI also provides tools and resources for developers to create and train AI models, such as OpenAI Gym, a toolkit for reinforcement learning and OpenAI Five, a platform for training AI in StarCraft II. Additionally, OpenAI offers education and research opportunities for individuals interested in the field of AI.\n"
     ]
    }
   ],
   "source": [
    "# Define the prompt\n",
    "prompt = \"What can you do with OpenAI?\"\n",
    "model=\"text-davinci-003\"\n",
    "\n",
    "# Generate a response\n",
    "response = send_openai_request(model, prompt)\n",
    "\n",
    "# Print the response\n",
    "print(response[\"choices\"][0][\"text\"])"
   ]
  },
  {
   "cell_type": "code",
   "execution_count": 14,
   "metadata": {},
   "outputs": [
    {
     "name": "stdout",
     "output_type": "stream",
     "text": [
      "\n",
      "\n",
      "OpenAI is a research lab focused on building advanced artificial intelligence.\n"
     ]
    }
   ],
   "source": [
    "# Define the prompt\n",
    "prompt = \"What can you do with OpenAI?\"\n",
    "model=\"text-davinci-002\"\n",
    "\n",
    "# Generate a response\n",
    "response = send_openai_request(model, prompt)\n",
    "\n",
    "# Print the response\n",
    "send_openai_request\n",
    "print(response[\"choices\"][0][\"text\"])"
   ]
  }
 ],
 "metadata": {
  "kernelspec": {
   "display_name": "Python 3",
   "language": "python",
   "name": "python3"
  },
  "language_info": {
   "codemirror_mode": {
    "name": "ipython",
    "version": 3
   },
   "file_extension": ".py",
   "mimetype": "text/x-python",
   "name": "python",
   "nbconvert_exporter": "python",
   "pygments_lexer": "ipython3",
   "version": "3.9.13"
  },
  "orig_nbformat": 4,
  "vscode": {
   "interpreter": {
    "hash": "fca4e1e8d46e3e7c0c757fe275340e9cac3e34b211967d761fe43c3d0f066eb3"
   }
  }
 },
 "nbformat": 4,
 "nbformat_minor": 2
}
