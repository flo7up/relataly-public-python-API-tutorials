{
 "cells": [
  {
   "cell_type": "markdown",
   "metadata": {},
   "source": [
    "# Step #1 Load the Twitter API Auth Data"
   ]
  },
  {
   "cell_type": "code",
   "execution_count": null,
   "metadata": {},
   "outputs": [],
   "source": [
    "import json\n",
    "import requests\n",
    "import pandas as pd\n",
    "import tweepy \n",
    "\n",
    "# place the twitter_secrets file under <User>/anaconda3/Lib\n",
    "from twitter_secrets import twitter_secrets as ts\n",
    "\n",
    "consumer_key = ts.CONSUMER_KEY\n",
    "consumer_secret = ts.CONSUMER_SECRET\n",
    "access_token = ts.ACCESS_TOKEN\n",
    "access_secret = ts.ACCESS_SECRET\n",
    "\n",
    "### Print API Auth Data (leave disabled for security reasons)\n",
    "print(f'consumer_key: {consumer_key}')\n",
    "print(f'consumer_secret: {consumer_secret}')\n",
    "print(f'access_token: {access_token}')\n",
    "print(f'access_secret: {access_token}')"
   ]
  },
  {
   "cell_type": "code",
   "execution_count": null,
   "metadata": {},
   "outputs": [],
   "source": [
    "# ## In case you prefer to load the auth data from a local yaml file, use the following code\n",
    "# import yaml\n",
    "# # load the API keys and further data from your local yaml file\n",
    "# # place the api_config_twitter.yml file under <python notebook>/API_Keys/\n",
    "# yaml_file = open('API Keys/api_config_twitter.yml', 'r')  \n",
    "# p = yaml.load(yaml_file, Loader=yaml.FullLoader)\n",
    "\n",
    "# try:\n",
    "#     consumer_key = p['api_key']\n",
    "#     consumer_secret = p['api_secret']\n",
    "#     access_token = p['access_token']\n",
    "#     access_secret = p['access_secret']\n",
    "# except ValueError: \n",
    "#         print('error')"
   ]
  },
  {
   "cell_type": "markdown",
   "metadata": {},
   "source": [
    "# Step #2 Request User Authentication"
   ]
  },
  {
   "cell_type": "code",
   "execution_count": null,
   "metadata": {},
   "outputs": [],
   "source": [
    "#authenticating to access the twitter API\n",
    "auth=tweepy.OAuthHandler(consumer_key,consumer_secret)\n",
    "auth.set_access_token(access_token,access_secret)\n",
    "api=tweepy.API(auth)"
   ]
  },
  {
   "cell_type": "markdown",
   "metadata": {},
   "source": [
    "# Step #3 Post Status on Twitter"
   ]
  },
  {
   "cell_type": "code",
   "execution_count": null,
   "metadata": {},
   "outputs": [],
   "source": [
    "# Define the tweet text\n",
    "tweet_text= 'test test test #Python $BTC $ETH'\n",
    "relataly_url = \"https://www.relataly.com\"\n",
    "\n",
    "# Generate text tweet\n",
    "api.update_status(f\"{tweet_text} {relataly_url}\")"
   ]
  },
  {
   "cell_type": "markdown",
   "metadata": {},
   "source": [
    "# Step #4 Post Media-Tweet on Twitter"
   ]
  },
  {
   "cell_type": "code",
   "execution_count": null,
   "metadata": {},
   "outputs": [],
   "source": [
    "# Define the tweet text\n",
    "tweet_text='This is another automated test tweet using #Python '\n",
    "image_path ='Test Images/ETH_price.png'\n",
    "relataly_url = \"https://www.relataly.com\"\n",
    "\n",
    "# Generate text tweet with media (image)\n",
    "status = api.update_with_media(image_path, f\"{tweet_text} {relataly_url}\")"
   ]
  }
 ],
 "metadata": {
  "kernelspec": {
   "display_name": "Python 3",
   "language": "python",
   "name": "python3"
  },
  "language_info": {
   "codemirror_mode": {
    "name": "ipython",
    "version": 3
   },
   "file_extension": ".py",
   "mimetype": "text/x-python",
   "name": "python",
   "nbconvert_exporter": "python",
   "pygments_lexer": "ipython3",
   "version": "3.8.5"
  }
 },
 "nbformat": 4,
 "nbformat_minor": 4
}
