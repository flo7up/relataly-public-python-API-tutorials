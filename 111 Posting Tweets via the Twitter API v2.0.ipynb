{
 "cells": [
  {
   "cell_type": "markdown",
   "metadata": {},
   "source": [
    "# 1 Load the Twitter API Auth Data"
   ]
  },
  {
   "cell_type": "code",
   "execution_count": 31,
   "metadata": {},
   "outputs": [],
   "source": [
    "import json\n",
    "import requests\n",
    "import pandas as pd\n",
    "import tweepy \n",
    "\n",
    "# place the twitter_secrets file under <User>/anaconda3/Lib\n",
    "from twitter_secrets import twitter_secrets as ts\n",
    "\n",
    "consumer_key = ts.CONSUMER_KEY\n",
    "consumer_secret = ts.CONSUMER_SECRET\n",
    "access_token = ts.ACCESS_TOKEN\n",
    "access_secret = ts.ACCESS_SECRET\n",
    "\n",
    "### Print API Auth Data (leave disabled for security reasons)\n",
    "# print(f'consumer_key: {consumer_key}')\n",
    "# print(f'consumer_secret: {consumer_secret}')\n",
    "# print(f'access_token: {access_token}')\n",
    "# print(f'access_secret: {access_token}')"
   ]
  },
  {
   "cell_type": "code",
   "execution_count": null,
   "metadata": {},
   "outputs": [],
   "source": [
    "## In case you prefer to load the auth data from a local yaml file, use the following code\n",
    "import yaml\n",
    "# load the API keys and further data from your local yaml file\n",
    "# place the api_config_twitter.yml file under <python notebook>/API_Keys/\n",
    "yaml_file = open('API Keys/api_config_twitter.yml', 'r')  \n",
    "p = yaml.load(yaml_file, Loader=yaml.FullLoader)\n",
    "\n",
    "try:\n",
    "    consumer_key = p['api_key']\n",
    "    consumer_secret = p['api_secret']\n",
    "    access_token = p['access_token']\n",
    "    access_secret = p['access_secret']\n",
    "except ValueError: \n",
    "        print('error')"
   ]
  },
  {
   "cell_type": "markdown",
   "metadata": {},
   "source": [
    "# 2 Request User Authentication"
   ]
  },
  {
   "cell_type": "code",
   "execution_count": 29,
   "metadata": {},
   "outputs": [],
   "source": [
    "#authenticating to access the twitter API\n",
    "auth=tweepy.OAuthHandler(consumer_key,consumer_secret)\n",
    "auth.set_access_token(access_token,access_secret)\n",
    "api=tweepy.API(auth)"
   ]
  },
  {
   "cell_type": "markdown",
   "metadata": {},
   "source": [
    "# 3 Post Status on Twitter"
   ]
  },
  {
   "cell_type": "code",
   "execution_count": 22,
   "metadata": {},
   "outputs": [
    {
     "data": {
      "text/plain": [
       "Status(_api=<tweepy.api.API object at 0x0000021E3EF4AFA0>, _json={'created_at': 'Sun May 09 14:28:44 +0000 2021', 'id': 1391399742681362439, 'id_str': '1391399742681362439', 'text': 'this is an automated test tweet using #Python $BTC $ETH', 'truncated': False, 'entities': {'hashtags': [{'text': 'Python', 'indices': [38, 45]}], 'symbols': [{'text': 'BTC', 'indices': [46, 50]}, {'text': 'ETH', 'indices': [51, 55]}], 'user_mentions': [], 'urls': []}, 'source': '<a href=\"https://relataly.com\" rel=\"nofollow\">relataly</a>', 'in_reply_to_status_id': None, 'in_reply_to_status_id_str': None, 'in_reply_to_user_id': None, 'in_reply_to_user_id_str': None, 'in_reply_to_screen_name': None, 'user': {'id': 1267534359189491714, 'id_str': '1267534359189491714', 'name': 'relataly.com', 'screen_name': 'relataly', 'location': 'Zürich', 'description': 'https://t.co/lSjIJop2tW Blog on Python Machine Learning', 'url': 'https://t.co/bP7Xm4pQAx', 'entities': {'url': {'urls': [{'url': 'https://t.co/bP7Xm4pQAx', 'expanded_url': 'http://www.relataly.com', 'display_url': 'relataly.com', 'indices': [0, 23]}]}, 'description': {'urls': [{'url': 'https://t.co/lSjIJop2tW', 'expanded_url': 'http://relataly.com', 'display_url': 'relataly.com', 'indices': [0, 23]}]}}, 'protected': False, 'followers_count': 12, 'friends_count': 69, 'listed_count': 1, 'created_at': 'Mon Jun 01 19:13:18 +0000 2020', 'favourites_count': 18, 'utc_offset': None, 'time_zone': None, 'geo_enabled': False, 'verified': False, 'statuses_count': 10, 'lang': None, 'contributors_enabled': False, 'is_translator': False, 'is_translation_enabled': False, 'profile_background_color': 'F5F8FA', 'profile_background_image_url': None, 'profile_background_image_url_https': None, 'profile_background_tile': False, 'profile_image_url': 'http://pbs.twimg.com/profile_images/1353452862077022210/NqaDDnUw_normal.jpg', 'profile_image_url_https': 'https://pbs.twimg.com/profile_images/1353452862077022210/NqaDDnUw_normal.jpg', 'profile_banner_url': 'https://pbs.twimg.com/profile_banners/1267534359189491714/1591040722', 'profile_link_color': '1DA1F2', 'profile_sidebar_border_color': 'C0DEED', 'profile_sidebar_fill_color': 'DDEEF6', 'profile_text_color': '333333', 'profile_use_background_image': True, 'has_extended_profile': False, 'default_profile': True, 'default_profile_image': False, 'following': False, 'follow_request_sent': False, 'notifications': False, 'translator_type': 'none', 'withheld_in_countries': []}, 'geo': None, 'coordinates': None, 'place': None, 'contributors': None, 'is_quote_status': False, 'retweet_count': 0, 'favorite_count': 0, 'favorited': False, 'retweeted': False, 'lang': 'en'}, created_at=datetime.datetime(2021, 5, 9, 14, 28, 44), id=1391399742681362439, id_str='1391399742681362439', text='this is an automated test tweet using #Python $BTC $ETH', truncated=False, entities={'hashtags': [{'text': 'Python', 'indices': [38, 45]}], 'symbols': [{'text': 'BTC', 'indices': [46, 50]}, {'text': 'ETH', 'indices': [51, 55]}], 'user_mentions': [], 'urls': []}, source='relataly', source_url='https://relataly.com', in_reply_to_status_id=None, in_reply_to_status_id_str=None, in_reply_to_user_id=None, in_reply_to_user_id_str=None, in_reply_to_screen_name=None, author=User(_api=<tweepy.api.API object at 0x0000021E3EF4AFA0>, _json={'id': 1267534359189491714, 'id_str': '1267534359189491714', 'name': 'relataly.com', 'screen_name': 'relataly', 'location': 'Zürich', 'description': 'https://t.co/lSjIJop2tW Blog on Python Machine Learning', 'url': 'https://t.co/bP7Xm4pQAx', 'entities': {'url': {'urls': [{'url': 'https://t.co/bP7Xm4pQAx', 'expanded_url': 'http://www.relataly.com', 'display_url': 'relataly.com', 'indices': [0, 23]}]}, 'description': {'urls': [{'url': 'https://t.co/lSjIJop2tW', 'expanded_url': 'http://relataly.com', 'display_url': 'relataly.com', 'indices': [0, 23]}]}}, 'protected': False, 'followers_count': 12, 'friends_count': 69, 'listed_count': 1, 'created_at': 'Mon Jun 01 19:13:18 +0000 2020', 'favourites_count': 18, 'utc_offset': None, 'time_zone': None, 'geo_enabled': False, 'verified': False, 'statuses_count': 10, 'lang': None, 'contributors_enabled': False, 'is_translator': False, 'is_translation_enabled': False, 'profile_background_color': 'F5F8FA', 'profile_background_image_url': None, 'profile_background_image_url_https': None, 'profile_background_tile': False, 'profile_image_url': 'http://pbs.twimg.com/profile_images/1353452862077022210/NqaDDnUw_normal.jpg', 'profile_image_url_https': 'https://pbs.twimg.com/profile_images/1353452862077022210/NqaDDnUw_normal.jpg', 'profile_banner_url': 'https://pbs.twimg.com/profile_banners/1267534359189491714/1591040722', 'profile_link_color': '1DA1F2', 'profile_sidebar_border_color': 'C0DEED', 'profile_sidebar_fill_color': 'DDEEF6', 'profile_text_color': '333333', 'profile_use_background_image': True, 'has_extended_profile': False, 'default_profile': True, 'default_profile_image': False, 'following': False, 'follow_request_sent': False, 'notifications': False, 'translator_type': 'none', 'withheld_in_countries': []}, id=1267534359189491714, id_str='1267534359189491714', name='relataly.com', screen_name='relataly', location='Zürich', description='https://t.co/lSjIJop2tW Blog on Python Machine Learning', url='https://t.co/bP7Xm4pQAx', entities={'url': {'urls': [{'url': 'https://t.co/bP7Xm4pQAx', 'expanded_url': 'http://www.relataly.com', 'display_url': 'relataly.com', 'indices': [0, 23]}]}, 'description': {'urls': [{'url': 'https://t.co/lSjIJop2tW', 'expanded_url': 'http://relataly.com', 'display_url': 'relataly.com', 'indices': [0, 23]}]}}, protected=False, followers_count=12, friends_count=69, listed_count=1, created_at=datetime.datetime(2020, 6, 1, 19, 13, 18), favourites_count=18, utc_offset=None, time_zone=None, geo_enabled=False, verified=False, statuses_count=10, lang=None, contributors_enabled=False, is_translator=False, is_translation_enabled=False, profile_background_color='F5F8FA', profile_background_image_url=None, profile_background_image_url_https=None, profile_background_tile=False, profile_image_url='http://pbs.twimg.com/profile_images/1353452862077022210/NqaDDnUw_normal.jpg', profile_image_url_https='https://pbs.twimg.com/profile_images/1353452862077022210/NqaDDnUw_normal.jpg', profile_banner_url='https://pbs.twimg.com/profile_banners/1267534359189491714/1591040722', profile_link_color='1DA1F2', profile_sidebar_border_color='C0DEED', profile_sidebar_fill_color='DDEEF6', profile_text_color='333333', profile_use_background_image=True, has_extended_profile=False, default_profile=True, default_profile_image=False, following=False, follow_request_sent=False, notifications=False, translator_type='none', withheld_in_countries=[]), user=User(_api=<tweepy.api.API object at 0x0000021E3EF4AFA0>, _json={'id': 1267534359189491714, 'id_str': '1267534359189491714', 'name': 'relataly.com', 'screen_name': 'relataly', 'location': 'Zürich', 'description': 'https://t.co/lSjIJop2tW Blog on Python Machine Learning', 'url': 'https://t.co/bP7Xm4pQAx', 'entities': {'url': {'urls': [{'url': 'https://t.co/bP7Xm4pQAx', 'expanded_url': 'http://www.relataly.com', 'display_url': 'relataly.com', 'indices': [0, 23]}]}, 'description': {'urls': [{'url': 'https://t.co/lSjIJop2tW', 'expanded_url': 'http://relataly.com', 'display_url': 'relataly.com', 'indices': [0, 23]}]}}, 'protected': False, 'followers_count': 12, 'friends_count': 69, 'listed_count': 1, 'created_at': 'Mon Jun 01 19:13:18 +0000 2020', 'favourites_count': 18, 'utc_offset': None, 'time_zone': None, 'geo_enabled': False, 'verified': False, 'statuses_count': 10, 'lang': None, 'contributors_enabled': False, 'is_translator': False, 'is_translation_enabled': False, 'profile_background_color': 'F5F8FA', 'profile_background_image_url': None, 'profile_background_image_url_https': None, 'profile_background_tile': False, 'profile_image_url': 'http://pbs.twimg.com/profile_images/1353452862077022210/NqaDDnUw_normal.jpg', 'profile_image_url_https': 'https://pbs.twimg.com/profile_images/1353452862077022210/NqaDDnUw_normal.jpg', 'profile_banner_url': 'https://pbs.twimg.com/profile_banners/1267534359189491714/1591040722', 'profile_link_color': '1DA1F2', 'profile_sidebar_border_color': 'C0DEED', 'profile_sidebar_fill_color': 'DDEEF6', 'profile_text_color': '333333', 'profile_use_background_image': True, 'has_extended_profile': False, 'default_profile': True, 'default_profile_image': False, 'following': False, 'follow_request_sent': False, 'notifications': False, 'translator_type': 'none', 'withheld_in_countries': []}, id=1267534359189491714, id_str='1267534359189491714', name='relataly.com', screen_name='relataly', location='Zürich', description='https://t.co/lSjIJop2tW Blog on Python Machine Learning', url='https://t.co/bP7Xm4pQAx', entities={'url': {'urls': [{'url': 'https://t.co/bP7Xm4pQAx', 'expanded_url': 'http://www.relataly.com', 'display_url': 'relataly.com', 'indices': [0, 23]}]}, 'description': {'urls': [{'url': 'https://t.co/lSjIJop2tW', 'expanded_url': 'http://relataly.com', 'display_url': 'relataly.com', 'indices': [0, 23]}]}}, protected=False, followers_count=12, friends_count=69, listed_count=1, created_at=datetime.datetime(2020, 6, 1, 19, 13, 18), favourites_count=18, utc_offset=None, time_zone=None, geo_enabled=False, verified=False, statuses_count=10, lang=None, contributors_enabled=False, is_translator=False, is_translation_enabled=False, profile_background_color='F5F8FA', profile_background_image_url=None, profile_background_image_url_https=None, profile_background_tile=False, profile_image_url='http://pbs.twimg.com/profile_images/1353452862077022210/NqaDDnUw_normal.jpg', profile_image_url_https='https://pbs.twimg.com/profile_images/1353452862077022210/NqaDDnUw_normal.jpg', profile_banner_url='https://pbs.twimg.com/profile_banners/1267534359189491714/1591040722', profile_link_color='1DA1F2', profile_sidebar_border_color='C0DEED', profile_sidebar_fill_color='DDEEF6', profile_text_color='333333', profile_use_background_image=True, has_extended_profile=False, default_profile=True, default_profile_image=False, following=False, follow_request_sent=False, notifications=False, translator_type='none', withheld_in_countries=[]), geo=None, coordinates=None, place=None, contributors=None, is_quote_status=False, retweet_count=0, favorite_count=0, favorited=False, retweeted=False, lang='en')"
      ]
     },
     "execution_count": 22,
     "metadata": {},
     "output_type": "execute_result"
    }
   ],
   "source": [
    "# Define the tweet text\n",
    "tweet='this is an automated test tweet using #Python $BTC $ETH'\n",
    "\n",
    "# Generate text tweet\n",
    "api.update_status(tweet)"
   ]
  },
  {
   "cell_type": "markdown",
   "metadata": {},
   "source": [
    "# 4 Post Media-Tweet on Twitter"
   ]
  },
  {
   "cell_type": "code",
   "execution_count": 24,
   "metadata": {},
   "outputs": [],
   "source": [
    "# Define the tweet text\n",
    "tweet_text='This is another automated test tweet using #Python'\n",
    "image_path ='Test Images/ETH_price.png'\n",
    "\n",
    "# Generate text tweet with media (image)\n",
    "status = api.update_with_media(image_path, tweet_text)"
   ]
  }
 ],
 "metadata": {
  "kernelspec": {
   "display_name": "Python 3",
   "language": "python",
   "name": "python3"
  },
  "language_info": {
   "codemirror_mode": {
    "name": "ipython",
    "version": 3
   },
   "file_extension": ".py",
   "mimetype": "text/x-python",
   "name": "python",
   "nbconvert_exporter": "python",
   "pygments_lexer": "ipython3",
   "version": "3.8.5"
  }
 },
 "nbformat": 4,
 "nbformat_minor": 4
}
