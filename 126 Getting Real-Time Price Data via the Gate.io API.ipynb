{
 "cells": [
  {
   "cell_type": "markdown",
   "metadata": {},
   "source": [
    "# 1 Connect to the Gate.io API"
   ]
  },
  {
   "cell_type": "code",
   "execution_count": 1,
   "metadata": {
    "scrolled": true
   },
   "outputs": [],
   "source": [
    "import gate_api\n",
    "from gate_api.exceptions import ApiException, GateApiException\n",
    "import pandas as pd\n",
    "import time\n",
    "import datetime as dt\n",
    "\n",
    "# Defining the host is optional and defaults to https://api.gateio.ws/api/v4\n",
    "# See configuration.py for a list of all supported configuration parameters.\n",
    "configuration = gate_api.Configuration(\n",
    "    host = \"https://api.gateio.ws/api/v4\"\n",
    ")\n",
    "\n",
    "api_client = gate_api.ApiClient(configuration)\n",
    "# Create an instance of the API class\n",
    "api_instance = gate_api.SpotApi(api_client)"
   ]
  },
  {
   "cell_type": "markdown",
   "metadata": {},
   "source": [
    "# 2 Define Functions for Calling the API and Handling the Response"
   ]
  },
  {
   "cell_type": "code",
   "execution_count": 2,
   "metadata": {},
   "outputs": [],
   "source": [
    "# this function starts calling the Gate.io API\n",
    "# the response will contains price data for multiple cryptocurrencies\n",
    "# the price information of each cryptocurrency will be stored in its own dataframe\n",
    "def request_data(runs, currency_pair, s):\n",
    "    currency_dfs = {}\n",
    "    for t in range(runs):\n",
    "\n",
    "        try:\n",
    "            api_response = api_instance.list_tickers(currency_pair=currency_pair)\n",
    "        except GateApiException as ex:\n",
    "            print(\"Gate api exception, label: %s, message: %s\\n\" % (ex.label, ex.message))\n",
    "        except ApiException as e:\n",
    "            print(\"Exception when calling SpotApi->list_tickers: %s\\n\" % e)\n",
    "\n",
    "        ts = dt.datetime.now()\n",
    "        currency_response_dict = {resp.currency_pair: resp for resp in api_response\n",
    "                                if \"USDT\" in resp.currency_pair and \"BEAR\" not in resp.currency_pair}\n",
    "                  \n",
    "        for currency_name, response in currency_response_dict.items():\n",
    "            try:\n",
    "                currency_dfs[currency_name]\n",
    "            except KeyError:\n",
    "                # Create new dataframe if currency does not have one yet\n",
    "                currency_dfs[currency_name] = pd.DataFrame(columns=[\n",
    "                    'Symbol', \n",
    "                    'Timestamp', \n",
    "                    'Volume', \n",
    "                    'Price', \n",
    "                    'Price_Delta', \n",
    "                    'Price_Delta_Percent'])\n",
    "            \n",
    "            # get the price of the currency at the last price point\n",
    "            if len(currency_dfs[currency_name]) > 1:\n",
    "                #print(currency_dfs[currency_name])\n",
    "                price_before = currency_dfs[currency_name]['Price'].iloc[-1]\n",
    "            else:\n",
    "                price_before = 0\n",
    "            \n",
    "            # append a new record the dataframe of this currency\n",
    "            new_data_as_dict = append_data_to_df(price_before, response, ts)\n",
    "            \n",
    "            # add this dataframe to the list of currency_dataframe. there are separate dfs per currency.\n",
    "            currency_dfs[currency_name] = currency_dfs[currency_name].append(new_data_as_dict, ignore_index=True)\n",
    "                \n",
    "        # wait s seconds until the next request\n",
    "        time.sleep(s)\n",
    "    return currency_dfs\n",
    "\n",
    "# this function is called for each cryptocurrency and everytime the gate.io API returns price data\n",
    "# the function extracts price information from a single API response and adds it to a dataframe \n",
    "# example: the API response contains data for 270 cryptocurrency price pairs -> the function is called 270 time per API response\n",
    "def append_data_to_df(price_before, data, ts):\n",
    "    volume = data.base_volume\n",
    "    price = pd.to_numeric(data.last)\n",
    "    price_delta = price - price_before\n",
    "    \n",
    "    if price > 0:\n",
    "        price_delta_p = price_delta / price \n",
    "    else:\n",
    "        price_delta_p = 0\n",
    "    \n",
    "    new_record = {\n",
    "                  'Symbol': data.currency_pair, \n",
    "                  'Timestamp': ts, \n",
    "                  'Volume': volume, \n",
    "                  'Price': price,\n",
    "                  'Price_Delta': price_delta,\n",
    "                  'Price_Delta_Percent': price_delta_p\n",
    "                 }\n",
    "    return new_record"
   ]
  },
  {
   "cell_type": "markdown",
   "metadata": {},
   "source": [
    "# 3 Start Calling the Gate.io Market API"
   ]
  },
  {
   "cell_type": "code",
   "execution_count": null,
   "metadata": {},
   "outputs": [],
   "source": [
    "s = 10 # API request interval in seconds\n",
    "currency_pair = '' # currency pair (optional)\n",
    "runs = 4 # number of data points to fetch\n",
    "\n",
    "df_list = request_data(runs, currency_pair, s)\n",
    "\n",
    "df_list # list that contains one dataframe per currency"
   ]
  }
 ],
 "metadata": {
  "kernelspec": {
   "display_name": "Python 3",
   "language": "python",
   "name": "python3"
  },
  "language_info": {
   "codemirror_mode": {
    "name": "ipython",
    "version": 3
   },
   "file_extension": ".py",
   "mimetype": "text/x-python",
   "name": "python",
   "nbconvert_exporter": "python",
   "pygments_lexer": "ipython3",
   "version": "3.8.5"
  }
 },
 "nbformat": 4,
 "nbformat_minor": 4
}
