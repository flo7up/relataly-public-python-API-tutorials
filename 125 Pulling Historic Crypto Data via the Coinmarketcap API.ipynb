{
 "cells": [
  {
   "cell_type": "markdown",
   "metadata": {},
   "source": [
    "# Step #1 Create a Relational Model in SQLite"
   ]
  },
  {
   "cell_type": "code",
   "execution_count": 3,
   "metadata": {},
   "outputs": [],
   "source": [
    "from peewee import *\n",
    "from datetime import date, timedelta, datetime\n",
    "import numpy as np \n",
    "import pandas as pd\n",
    "import seaborn as sns\n",
    "import time\n",
    "import json\n",
    "import yaml\n",
    "from requests import Request, Session\n",
    "from requests.exceptions import ConnectionError, Timeout, TooManyRedirects\n",
    "from pandas.plotting import register_matplotlib_converters\n",
    "\n",
    "import matplotlib.dates as mdates\n",
    "import matplotlib.pyplot as plt\n",
    "\n",
    "# persist information\n",
    "db = SqliteDatabase('assets.db')\n",
    "\n",
    "class BaseModel(Model):\n",
    "    class Meta:\n",
    "        database = db\n",
    "\n",
    "class Run(BaseModel): # This model uses the \"assets.db\" database.\n",
    "    timestamp = DateTimeField(unique=True)\n",
    "    symbol = CharField()\n",
    "    id = AutoField()\n",
    "\n",
    "class Price(BaseModel): # This model uses the \"assets.db\" database.\n",
    "    datetime = DateTimeField(unique=True)\n",
    "    volume_24 = FloatField()\n",
    "    price = FloatField()\n",
    "    runid = ForeignKeyField(Run, backref='prices')\n",
    "         \n",
    "# By default, Peewee includes an IF NOT EXISTS clause when creating tables. \n",
    "def create_tables():\n",
    "    with db:\n",
    "        db.create_tables([Price])\n",
    "        db.create_tables([Run])\n",
    "\n",
    "def drop_tables():\n",
    "    with db:\n",
    "        db.drop_tables([Price])\n",
    "        db.drop_tables([Run])\n",
    "        \n",
    "create_tables()\n",
    "\n",
    "#drop_tables()    "
   ]
  },
  {
   "cell_type": "markdown",
   "metadata": {},
   "source": [
    "# Step #2 Streaming Price Quotes"
   ]
  },
  {
   "cell_type": "code",
   "execution_count": 6,
   "metadata": {},
   "outputs": [
    {
     "name": "stdout",
     "output_type": "stream",
     "text": [
      "run_id: 3 - timestamp: 2022-06-21 14:41:46.572582 - interval: 10 - number of queries: 100\n",
      "request number: 0 - added 21018.1 at 2022-06-21T12:41:47.783Z - 24 hour volume: 31080708939.6 - credits used: 1\n",
      "request number: 1 - added 21018.1 at 2022-06-21T12:41:57.944Z - 24 hour volume: 31080708939.6 - credits used: 1\n",
      "request number: 2 - added 21018.1 at 2022-06-21T12:42:08.568Z - 24 hour volume: 31080708939.6 - credits used: 1\n",
      "request number: 3 - added 21018.1 at 2022-06-21T12:42:19.093Z - 24 hour volume: 31080708939.6 - credits used: 1\n",
      "request number: 4 - added 21018.1 at 2022-06-21T12:42:29.248Z - 24 hour volume: 31080708939.6 - credits used: 1\n",
      "request number: 5 - added 21018.1 at 2022-06-21T12:42:39.405Z - 24 hour volume: 31080708939.6 - credits used: 1\n",
      "request number: 6 - added 21018.1 at 2022-06-21T12:42:50.022Z - 24 hour volume: 31080708939.6 - credits used: 1\n",
      "request number: 7 - added 21018.1 at 2022-06-21T12:43:00.238Z - 24 hour volume: 31080708939.6 - credits used: 1\n",
      "request number: 8 - added 21018.1 at 2022-06-21T12:43:10.415Z - 24 hour volume: 31080708939.6 - credits used: 1\n"
     ]
    },
    {
     "ename": "KeyboardInterrupt",
     "evalue": "",
     "output_type": "error",
     "traceback": [
      "\u001b[1;31m---------------------------------------------------------------------------\u001b[0m",
      "\u001b[1;31mKeyboardInterrupt\u001b[0m                         Traceback (most recent call last)",
      "\u001b[1;32m<ipython-input-6-4489df13ad01>\u001b[0m in \u001b[0;36m<module>\u001b[1;34m\u001b[0m\n\u001b[0;32m     57\u001b[0m     \u001b[1;32mexcept\u001b[0m \u001b[1;33m(\u001b[0m\u001b[0mConnectionError\u001b[0m\u001b[1;33m,\u001b[0m \u001b[0mTimeout\u001b[0m\u001b[1;33m,\u001b[0m \u001b[0mTooManyRedirects\u001b[0m\u001b[1;33m)\u001b[0m \u001b[1;32mas\u001b[0m \u001b[0me\u001b[0m\u001b[1;33m:\u001b[0m\u001b[1;33m\u001b[0m\u001b[1;33m\u001b[0m\u001b[0m\n\u001b[0;32m     58\u001b[0m         \u001b[0mprint\u001b[0m\u001b[1;33m(\u001b[0m\u001b[0me\u001b[0m\u001b[1;33m)\u001b[0m\u001b[1;33m\u001b[0m\u001b[1;33m\u001b[0m\u001b[0m\n\u001b[1;32m---> 59\u001b[1;33m     \u001b[0mtime\u001b[0m\u001b[1;33m.\u001b[0m\u001b[0msleep\u001b[0m\u001b[1;33m(\u001b[0m\u001b[0mquery_interval\u001b[0m\u001b[1;33m)\u001b[0m\u001b[1;33m\u001b[0m\u001b[1;33m\u001b[0m\u001b[0m\n\u001b[0m\u001b[0;32m     60\u001b[0m \u001b[0mprint\u001b[0m\u001b[1;33m(\u001b[0m\u001b[1;34m'finished'\u001b[0m\u001b[1;33m)\u001b[0m\u001b[1;33m\u001b[0m\u001b[1;33m\u001b[0m\u001b[0m\n",
      "\u001b[1;31mKeyboardInterrupt\u001b[0m: "
     ]
    }
   ],
   "source": [
    "symbol='BTCUSD'\n",
    "query_interval = 10 # in seconds\n",
    "query_number = 100 # the number of queries after which the API stops\n",
    "\n",
    "# load the API key from our local file\n",
    "with open(r'API Keys/api_config_coinmarketcap.yml') as file:\n",
    "    apikey = yaml.load(file, Loader=yaml.FullLoader)['api_key']\n",
    "\n",
    "# Define some essential API parameters\n",
    "# Coinmarketcap API for latest market ticker quotes and averages for cryptocurrencies and exchanges.\n",
    "# https://coinmarketcap.com/api/documentation/v1/#operation/getV1CryptocurrencyListingsLatest\n",
    "url = 'https://pro-api.coinmarketcap.com/v1/cryptocurrency/listings/latest'\n",
    "parameters = {\n",
    "  'start':'1',\n",
    "  'limit':'1',\n",
    "  'convert':'USD'\n",
    "}\n",
    "headers = {\n",
    "  'Accepts': 'application/json',\n",
    "  'X-CMC_PRO_API_KEY': apikey,\n",
    "}\n",
    "\n",
    "session = Session()\n",
    "session.headers.update(headers)\n",
    "\n",
    "# create a new run and save it to our local SQLite DB\n",
    "run_timestamp = datetime.now()\n",
    "run = Run(symbol=symbol, timestamp = run_timestamp)\n",
    "run.save()\n",
    "current_run_id = run.id \n",
    "print(f'run_id: {current_run_id} - timestamp: {run_timestamp} - interval: {query_interval} - number of queries: {query_number}')\n",
    "\n",
    "# query the coinmarketcap API every x seconds\n",
    "for s in range(0, query_number):\n",
    "    try:\n",
    "        response = session.get(url, params=parameters)\n",
    "        data = json.loads(response.text)\n",
    "        #print(data)\n",
    "        \n",
    "        # response - quote\n",
    "        data_quote = data['data'][0]['quote']['USD']\n",
    "        price = np.round(data_quote['price'], 1) # the price\n",
    "        volume_24 = np.round(data_quote['volume_24h'], 1) # the volume in the last 24 hours\n",
    "        \n",
    "        # response - status\n",
    "        data_status = data['status']\n",
    "        api_timestamp = data_status['timestamp'] # the timestamp of the pricepoint\n",
    "        api_credits = data_status['credit_count'] # the number of credits spent on the last request\n",
    "        \n",
    "        # create a new pricepoint and save it to the SQLite db\n",
    "        new_pricepoint = Price(datetime=api_timestamp, price=price, volume_24=volume_24, runid=current_run_id)\n",
    "        id = new_pricepoint.save()\n",
    "\n",
    "        # display what we have just saved\n",
    "        print(f'request number: {s} - added {price} at {api_timestamp} - 24 hour volume: {volume_24} - credits used: {api_credits}')      \n",
    "\n",
    "    except (ConnectionError, Timeout, TooManyRedirects) as e:\n",
    "        print(e)\n",
    "    time.sleep(query_interval)\n",
    "print('finished')"
   ]
  },
  {
   "cell_type": "markdown",
   "metadata": {},
   "source": [
    "# Step #3 Querying the Data from Our SQL Table"
   ]
  },
  {
   "cell_type": "code",
   "execution_count": 8,
   "metadata": {},
   "outputs": [
    {
     "data": {
      "text/html": [
       "<div>\n",
       "<style scoped>\n",
       "    .dataframe tbody tr th:only-of-type {\n",
       "        vertical-align: middle;\n",
       "    }\n",
       "\n",
       "    .dataframe tbody tr th {\n",
       "        vertical-align: top;\n",
       "    }\n",
       "\n",
       "    .dataframe thead th {\n",
       "        text-align: right;\n",
       "    }\n",
       "</style>\n",
       "<table border=\"1\" class=\"dataframe\">\n",
       "  <thead>\n",
       "    <tr style=\"text-align: right;\">\n",
       "      <th></th>\n",
       "      <th>id</th>\n",
       "      <th>timestamp</th>\n",
       "      <th>symbol</th>\n",
       "    </tr>\n",
       "  </thead>\n",
       "  <tbody>\n",
       "    <tr>\n",
       "      <th>0</th>\n",
       "      <td>3</td>\n",
       "      <td>2022-06-21 14:41:46.572582</td>\n",
       "      <td>BTCUSD</td>\n",
       "    </tr>\n",
       "  </tbody>\n",
       "</table>\n",
       "</div>"
      ],
      "text/plain": [
       "   id                  timestamp  symbol\n",
       "0   3 2022-06-21 14:41:46.572582  BTCUSD"
      ]
     },
     "execution_count": 8,
     "metadata": {},
     "output_type": "execute_result"
    }
   ],
   "source": [
    "query = Run.select().where(Run.id==current_run_id)\n",
    "run_overview = pd.DataFrame(list(query.dicts()))\n",
    "run_overview"
   ]
  },
  {
   "cell_type": "code",
   "execution_count": 9,
   "metadata": {},
   "outputs": [
    {
     "name": "stdout",
     "output_type": "stream",
     "text": [
      "   id                  datetime     volume_24    price  runid\n",
      "0  16  2022-06-21T12:41:47.783Z  3.108071e+10  21018.1      3\n",
      "1  17  2022-06-21T12:41:57.944Z  3.108071e+10  21018.1      3\n",
      "2  18  2022-06-21T12:42:08.568Z  3.108071e+10  21018.1      3\n",
      "3  19  2022-06-21T12:42:19.093Z  3.108071e+10  21018.1      3\n",
      "4  20  2022-06-21T12:42:29.248Z  3.108071e+10  21018.1      3\n",
      "5  21  2022-06-21T12:42:39.405Z  3.108071e+10  21018.1      3\n",
      "6  22  2022-06-21T12:42:50.022Z  3.108071e+10  21018.1      3\n",
      "7  23  2022-06-21T12:43:00.238Z  3.108071e+10  21018.1      3\n",
      "8  24  2022-06-21T12:43:10.415Z  3.108071e+10  21018.1      3\n"
     ]
    },
    {
     "data": {
      "text/plain": [
       "(array([19164.52905093, 19164.52916667, 19164.52928241, 19164.52939815,\n",
       "        19164.52951389, 19164.52962963, 19164.52974537, 19164.52986111,\n",
       "        19164.52997685]),\n",
       " [Text(0, 0, ''),\n",
       "  Text(0, 0, ''),\n",
       "  Text(0, 0, ''),\n",
       "  Text(0, 0, ''),\n",
       "  Text(0, 0, ''),\n",
       "  Text(0, 0, ''),\n",
       "  Text(0, 0, ''),\n",
       "  Text(0, 0, ''),\n",
       "  Text(0, 0, '')])"
      ]
     },
     "execution_count": 9,
     "metadata": {},
     "output_type": "execute_result"
    },
    {
     "data": {
      "image/png": "[encoded data removed]",
      "text/plain": [
       "<Figure size 720x576 with 1 Axes>"
      ]
     },
     "metadata": {
      "needs_background": "light"
     },
     "output_type": "display_data"
    }
   ],
   "source": [
    "query = Price.select().where(Price.runid==current_run_id)\n",
    "df_prices = pd.DataFrame(list(query.dicts()))\n",
    "print(df_prices)\n",
    "\n",
    "register_matplotlib_converters()\n",
    "fig, ax = plt.subplots(figsize=(10, 8))\n",
    "plt.title('BTC prices from the coinmarketcap API', fontsize=14)\n",
    "datetimes = pd.to_datetime(df_prices['datetime'])\n",
    "\n",
    "sns.lineplot(data=df_prices, x=datetimes, y=\"price\")\n",
    "#ax.set_xlim([df_prices['datetime'].min(),df_prices['datetime'].max()])\n",
    "#ax.xaxis.set_major_locator(mdates.MinuteLocator())\n",
    "plt.xticks(rotation=75)"
   ]
  }
 ],
 "metadata": {
  "kernelspec": {
   "display_name": "Python 3.8.8 ('base')",
   "language": "python",
   "name": "python3"
  },
  "language_info": {
   "codemirror_mode": {
    "name": "ipython",
    "version": 3
   },
   "file_extension": ".py",
   "mimetype": "text/x-python",
   "name": "python",
   "nbconvert_exporter": "python",
   "pygments_lexer": "ipython3",
   "version": "3.8.8"
  },
  "vscode": {
   "interpreter": {
    "hash": "38b6c26bd9870504e27f7883362b971e6afb0a02e23f00032a9076a16838eb05"
   }
  }
 },
 "nbformat": 4,
 "nbformat_minor": 4
}
