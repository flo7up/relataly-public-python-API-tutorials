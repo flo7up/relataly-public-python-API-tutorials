{
 "cells": [
  {
   "cell_type": "markdown",
   "metadata": {},
   "source": [
    "# Step #1 Create a Relational Model in SQLite"
   ]
  },
  {
   "cell_type": "code",
   "execution_count": 1,
   "metadata": {},
   "outputs": [],
   "source": [
    "# A tutorial for this file is available at www.relataly.com\n",
    "# Tested on 22.10.2022 with Python 3.88, peewee 3.14.4, numpy 1.21.3\n",
    "\n",
    "from peewee import *\n",
    "from datetime import date, timedelta, datetime\n",
    "import numpy as np \n",
    "import pandas as pd\n",
    "import seaborn as sns\n",
    "import time\n",
    "import json\n",
    "import yaml\n",
    "from requests import Request, Session\n",
    "from requests.exceptions import ConnectionError, Timeout, TooManyRedirects\n",
    "from pandas.plotting import register_matplotlib_converters\n",
    "\n",
    "import matplotlib.dates as mdates\n",
    "import matplotlib.pyplot as plt\n",
    "\n",
    "# persist information\n",
    "db = SqliteDatabase('assets.db')\n",
    "\n",
    "class BaseModel(Model):\n",
    "    class Meta:\n",
    "        database = db\n",
    "\n",
    "class Run(BaseModel): # This model uses the \"assets.db\" database.\n",
    "    timestamp = DateTimeField(unique=True)\n",
    "    symbol = CharField()\n",
    "    id = AutoField()\n",
    "\n",
    "class Price(BaseModel): # This model uses the \"assets.db\" database.\n",
    "    datetime = DateTimeField(unique=True)\n",
    "    volume_24 = FloatField()\n",
    "    price = FloatField()\n",
    "    runid = ForeignKeyField(Run, backref='prices')\n",
    "         \n",
    "# By default, Peewee includes an IF NOT EXISTS clause when creating tables. \n",
    "def create_tables():\n",
    "    with db:\n",
    "        db.create_tables([Price])\n",
    "        db.create_tables([Run])\n",
    "\n",
    "def drop_tables():\n",
    "    with db:\n",
    "        db.drop_tables([Price])\n",
    "        db.drop_tables([Run])\n",
    "        \n",
    "create_tables()\n",
    "#drop_tables()    "
   ]
  },
  {
   "cell_type": "markdown",
   "metadata": {},
   "source": [
    "# Step #2 Streaming Price Quotes"
   ]
  },
  {
   "cell_type": "code",
   "execution_count": 2,
   "metadata": {},
   "outputs": [
    {
     "name": "stdout",
     "output_type": "stream",
     "text": [
      "run_id: 5 - timestamp: 2022-10-22 20:12:59.632802 - interval: 10 - number of queries: 100\n",
      "request number: 0 - added 19158.7 at 2022-10-22T18:13:00.433Z - 24 hour volume: 18038686653.7 - credits used: 1\n",
      "request number: 1 - added 19158.7 at 2022-10-22T18:13:10.591Z - 24 hour volume: 18038686653.7 - credits used: 1\n",
      "request number: 2 - added 19158.7 at 2022-10-22T18:13:20.721Z - 24 hour volume: 18038686653.7 - credits used: 1\n",
      "request number: 3 - added 19158.7 at 2022-10-22T18:13:30.869Z - 24 hour volume: 18038686653.7 - credits used: 1\n",
      "request number: 4 - added 19158.7 at 2022-10-22T18:13:41.285Z - 24 hour volume: 18038686653.7 - credits used: 1\n",
      "request number: 5 - added 19155.7 at 2022-10-22T18:13:51.617Z - 24 hour volume: 18033723685.9 - credits used: 1\n",
      "request number: 6 - added 19155.7 at 2022-10-22T18:14:02.035Z - 24 hour volume: 18033723685.9 - credits used: 1\n",
      "request number: 7 - added 19155.7 at 2022-10-22T18:14:17.169Z - 24 hour volume: 18033723685.9 - credits used: 1\n",
      "request number: 8 - added 19155.7 at 2022-10-22T18:14:27.601Z - 24 hour volume: 18033723685.9 - credits used: 1\n",
      "request number: 9 - added 19155.7 at 2022-10-22T18:14:37.742Z - 24 hour volume: 18033723685.9 - credits used: 1\n",
      "request number: 10 - added 19155.7 at 2022-10-22T18:14:48.502Z - 24 hour volume: 18033723685.9 - credits used: 1\n",
      "request number: 11 - added 19151.8 at 2022-10-22T18:15:07.002Z - 24 hour volume: 18022709896.3 - credits used: 1\n",
      "request number: 12 - added 19151.8 at 2022-10-22T18:15:17.133Z - 24 hour volume: 18022709896.3 - credits used: 1\n",
      "request number: 13 - added 19151.8 at 2022-10-22T18:15:28.166Z - 24 hour volume: 18022709896.3 - credits used: 1\n",
      "request number: 14 - added 19151.8 at 2022-10-22T18:15:38.586Z - 24 hour volume: 18022709896.3 - credits used: 1\n",
      "request number: 15 - added 19151.8 at 2022-10-22T18:15:48.727Z - 24 hour volume: 18022709896.3 - credits used: 1\n",
      "request number: 16 - added 19151.8 at 2022-10-22T18:15:59.180Z - 24 hour volume: 18022709896.3 - credits used: 1\n",
      "request number: 17 - added 19149.6 at 2022-10-22T18:16:09.641Z - 24 hour volume: 18010028018.2 - credits used: 1\n",
      "request number: 18 - added 19149.6 at 2022-10-22T18:16:19.778Z - 24 hour volume: 18010028018.2 - credits used: 1\n",
      "request number: 19 - added 19149.6 at 2022-10-22T18:16:30.187Z - 24 hour volume: 18010028018.2 - credits used: 1\n",
      "request number: 20 - added 19149.6 at 2022-10-22T18:16:40.320Z - 24 hour volume: 18010028018.2 - credits used: 1\n",
      "request number: 21 - added 19149.6 at 2022-10-22T18:16:50.745Z - 24 hour volume: 18010028018.2 - credits used: 1\n",
      "request number: 22 - added 19149.6 at 2022-10-22T18:17:01.816Z - 24 hour volume: 18010028018.2 - credits used: 1\n",
      "request number: 23 - added 19150.7 at 2022-10-22T18:17:12.266Z - 24 hour volume: 18000740030.0 - credits used: 1\n",
      "request number: 24 - added 19150.7 at 2022-10-22T18:17:22.433Z - 24 hour volume: 18000740030.0 - credits used: 1\n",
      "request number: 25 - added 19150.7 at 2022-10-22T18:17:32.960Z - 24 hour volume: 18000740030.0 - credits used: 1\n",
      "request number: 26 - added 19150.7 at 2022-10-22T18:17:43.376Z - 24 hour volume: 18000740030.0 - credits used: 1\n",
      "request number: 27 - added 19150.7 at 2022-10-22T18:17:53.980Z - 24 hour volume: 18000740030.0 - credits used: 1\n",
      "request number: 28 - added 19150.7 at 2022-10-22T18:18:04.125Z - 24 hour volume: 18000740030.0 - credits used: 1\n",
      "request number: 29 - added 19150.2 at 2022-10-22T18:18:14.622Z - 24 hour volume: 18009644386.2 - credits used: 1\n",
      "request number: 30 - added 19150.2 at 2022-10-22T18:18:24.784Z - 24 hour volume: 18009644386.2 - credits used: 1\n",
      "request number: 31 - added 19150.2 at 2022-10-22T18:18:36.119Z - 24 hour volume: 18009644386.2 - credits used: 1\n",
      "request number: 32 - added 19150.2 at 2022-10-22T18:18:46.262Z - 24 hour volume: 18009644386.2 - credits used: 1\n",
      "request number: 33 - added 19150.2 at 2022-10-22T18:18:56.406Z - 24 hour volume: 18009644386.2 - credits used: 1\n",
      "request number: 34 - added 19150.2 at 2022-10-22T18:19:06.805Z - 24 hour volume: 18009644386.2 - credits used: 1\n",
      "request number: 35 - added 19150.6 at 2022-10-22T18:19:17.574Z - 24 hour volume: 17987392946.2 - credits used: 1\n",
      "request number: 36 - added 19150.6 at 2022-10-22T18:19:27.878Z - 24 hour volume: 17987392946.2 - credits used: 1\n",
      "request number: 37 - added 19150.6 at 2022-10-22T18:19:38.037Z - 24 hour volume: 17987392946.2 - credits used: 1\n",
      "request number: 38 - added 19150.6 at 2022-10-22T18:19:48.200Z - 24 hour volume: 17987392946.2 - credits used: 1\n",
      "request number: 39 - added 19150.6 at 2022-10-22T18:19:58.662Z - 24 hour volume: 17987392946.2 - credits used: 1\n",
      "request number: 40 - added 19150.6 at 2022-10-22T18:20:08.820Z - 24 hour volume: 17987392946.2 - credits used: 1\n",
      "request number: 41 - added 19152.0 at 2022-10-22T18:20:19.243Z - 24 hour volume: 17978061844.0 - credits used: 1\n",
      "request number: 42 - added 19152.0 at 2022-10-22T18:20:29.388Z - 24 hour volume: 17978061844.0 - credits used: 1\n",
      "request number: 43 - added 19152.0 at 2022-10-22T18:20:39.526Z - 24 hour volume: 17978061844.0 - credits used: 1\n",
      "request number: 44 - added 19152.0 at 2022-10-22T18:20:49.667Z - 24 hour volume: 17978061844.0 - credits used: 1\n",
      "request number: 45 - added 19152.0 at 2022-10-22T18:20:59.893Z - 24 hour volume: 17978061844.0 - credits used: 1\n",
      "request number: 46 - added 19152.0 at 2022-10-22T18:21:10.056Z - 24 hour volume: 17978061844.0 - credits used: 1\n",
      "request number: 47 - added 19157.6 at 2022-10-22T18:21:20.206Z - 24 hour volume: 17978228636.0 - credits used: 1\n",
      "request number: 48 - added 19157.6 at 2022-10-22T18:21:30.618Z - 24 hour volume: 17978228636.0 - credits used: 1\n",
      "request number: 49 - added 19157.6 at 2022-10-22T18:21:40.752Z - 24 hour volume: 17978228636.0 - credits used: 1\n",
      "request number: 50 - added 19157.6 at 2022-10-22T18:21:50.895Z - 24 hour volume: 17978228636.0 - credits used: 1\n",
      "request number: 51 - added 19157.6 at 2022-10-22T18:22:01.031Z - 24 hour volume: 17978228636.0 - credits used: 1\n",
      "request number: 52 - added 19157.6 at 2022-10-22T18:22:11.181Z - 24 hour volume: 17978228636.0 - credits used: 1\n",
      "request number: 53 - added 19158.3 at 2022-10-22T18:22:21.315Z - 24 hour volume: 17964918246.0 - credits used: 1\n",
      "request number: 54 - added 19158.3 at 2022-10-22T18:22:31.725Z - 24 hour volume: 17964918246.0 - credits used: 1\n",
      "request number: 55 - added 19158.3 at 2022-10-22T18:22:42.230Z - 24 hour volume: 17964918246.0 - credits used: 1\n",
      "request number: 56 - added 19158.3 at 2022-10-22T18:22:52.647Z - 24 hour volume: 17964918246.0 - credits used: 1\n",
      "request number: 57 - added 19158.3 at 2022-10-22T18:23:03.060Z - 24 hour volume: 17964918246.0 - credits used: 1\n",
      "request number: 58 - added 19158.3 at 2022-10-22T18:23:13.468Z - 24 hour volume: 17964918246.0 - credits used: 1\n",
      "request number: 59 - added 19159.3 at 2022-10-22T18:23:23.881Z - 24 hour volume: 17958078565.0 - credits used: 1\n",
      "request number: 60 - added 19159.3 at 2022-10-22T18:23:34.291Z - 24 hour volume: 17958078565.0 - credits used: 1\n",
      "request number: 61 - added 19159.3 at 2022-10-22T18:23:44.716Z - 24 hour volume: 17958078565.0 - credits used: 1\n",
      "request number: 62 - added 19159.3 at 2022-10-22T18:23:54.861Z - 24 hour volume: 17958078565.0 - credits used: 1\n",
      "request number: 63 - added 19159.3 at 2022-10-22T18:24:05.267Z - 24 hour volume: 17958078565.0 - credits used: 1\n",
      "request number: 64 - added 19159.3 at 2022-10-22T18:24:15.398Z - 24 hour volume: 17958078565.0 - credits used: 1\n",
      "request number: 65 - added 19159.3 at 2022-10-22T18:24:25.566Z - 24 hour volume: 17958078565.0 - credits used: 1\n",
      "request number: 66 - added 19159.3 at 2022-10-22T18:24:36.019Z - 24 hour volume: 17958078565.0 - credits used: 1\n",
      "request number: 67 - added 19159.3 at 2022-10-22T18:24:46.424Z - 24 hour volume: 17958078565.0 - credits used: 1\n",
      "request number: 68 - added 19159.3 at 2022-10-22T18:24:56.576Z - 24 hour volume: 17958078565.0 - credits used: 1\n",
      "request number: 69 - added 19159.3 at 2022-10-22T18:25:06.777Z - 24 hour volume: 17958078565.0 - credits used: 1\n",
      "request number: 70 - added 19159.3 at 2022-10-22T18:25:17.207Z - 24 hour volume: 17958078565.0 - credits used: 1\n",
      "request number: 71 - added 19160.0 at 2022-10-22T18:25:27.355Z - 24 hour volume: 17930557451.1 - credits used: 1\n",
      "request number: 72 - added 19160.0 at 2022-10-22T18:25:37.512Z - 24 hour volume: 17930557451.1 - credits used: 1\n",
      "request number: 73 - added 19160.0 at 2022-10-22T18:25:47.651Z - 24 hour volume: 17930557451.1 - credits used: 1\n",
      "request number: 74 - added 19160.0 at 2022-10-22T18:25:57.816Z - 24 hour volume: 17930557451.1 - credits used: 1\n",
      "request number: 75 - added 19160.0 at 2022-10-22T18:26:07.953Z - 24 hour volume: 17930557451.1 - credits used: 1\n",
      "request number: 76 - added 19160.0 at 2022-10-22T18:26:18.135Z - 24 hour volume: 17930557451.1 - credits used: 1\n",
      "request number: 77 - added 19162.3 at 2022-10-22T18:26:28.324Z - 24 hour volume: 17925336133.2 - credits used: 1\n",
      "request number: 78 - added 19162.3 at 2022-10-22T18:26:38.456Z - 24 hour volume: 17925336133.2 - credits used: 1\n",
      "request number: 79 - added 19162.3 at 2022-10-22T18:26:48.614Z - 24 hour volume: 17925336133.2 - credits used: 1\n",
      "request number: 80 - added 19162.3 at 2022-10-22T18:26:58.745Z - 24 hour volume: 17925336133.2 - credits used: 1\n",
      "request number: 81 - added 19162.3 at 2022-10-22T18:27:08.877Z - 24 hour volume: 17925336133.2 - credits used: 1\n",
      "request number: 82 - added 19162.3 at 2022-10-22T18:27:19.027Z - 24 hour volume: 17925336133.2 - credits used: 1\n",
      "request number: 83 - added 19162.9 at 2022-10-22T18:27:29.443Z - 24 hour volume: 17912205784.4 - credits used: 1\n",
      "request number: 84 - added 19162.9 at 2022-10-22T18:27:39.574Z - 24 hour volume: 17912205784.4 - credits used: 1\n",
      "request number: 85 - added 19162.9 at 2022-10-22T18:27:49.707Z - 24 hour volume: 17912205784.4 - credits used: 1\n",
      "request number: 86 - added 19162.9 at 2022-10-22T18:28:00.120Z - 24 hour volume: 17912205784.4 - credits used: 1\n",
      "request number: 87 - added 19162.9 at 2022-10-22T18:28:10.257Z - 24 hour volume: 17912205784.4 - credits used: 1\n",
      "request number: 88 - added 19162.9 at 2022-10-22T18:28:20.386Z - 24 hour volume: 17912205784.4 - credits used: 1\n",
      "request number: 89 - added 19165.0 at 2022-10-22T18:28:30.523Z - 24 hour volume: 17908006012.8 - credits used: 1\n",
      "request number: 90 - added 19165.0 at 2022-10-22T18:28:40.654Z - 24 hour volume: 17908006012.8 - credits used: 1\n",
      "request number: 91 - added 19165.0 at 2022-10-22T18:28:50.802Z - 24 hour volume: 17908006012.8 - credits used: 1\n",
      "request number: 92 - added 19165.0 at 2022-10-22T18:29:01.215Z - 24 hour volume: 17908006012.8 - credits used: 1\n",
      "request number: 93 - added 19165.0 at 2022-10-22T18:29:11.663Z - 24 hour volume: 17908006012.8 - credits used: 1\n",
      "request number: 94 - added 19165.0 at 2022-10-22T18:29:21.944Z - 24 hour volume: 17908006012.8 - credits used: 1\n",
      "request number: 95 - added 19168.4 at 2022-10-22T18:29:32.356Z - 24 hour volume: 17850852918.8 - credits used: 1\n",
      "request number: 96 - added 19168.4 at 2022-10-22T18:29:42.491Z - 24 hour volume: 17850852918.8 - credits used: 1\n",
      "request number: 97 - added 19168.4 at 2022-10-22T18:29:52.635Z - 24 hour volume: 17850852918.8 - credits used: 1\n",
      "request number: 98 - added 19168.4 at 2022-10-22T18:30:03.988Z - 24 hour volume: 17850852918.8 - credits used: 1\n",
      "request number: 99 - added 19168.4 at 2022-10-22T18:30:15.293Z - 24 hour volume: 17850852918.8 - credits used: 1\n",
      "finished\n"
     ]
    }
   ],
   "source": [
    "symbol='BTCUSD'\n",
    "query_interval = 10 # in seconds\n",
    "query_number = 100 # the number of queries after which the API stops\n",
    "\n",
    "# load the API key from our local file\n",
    "with open(r'API Keys/api_config_coinmarketcap.yml') as file:\n",
    "    apikey = yaml.load(file, Loader=yaml.FullLoader)['api_key']\n",
    "\n",
    "# Define some essential API parameters\n",
    "# Coinmarketcap API for latest market ticker quotes and averages for cryptocurrencies and exchanges.\n",
    "# https://coinmarketcap.com/api/documentation/v1/#operation/getV1CryptocurrencyListingsLatest\n",
    "url = 'https://pro-api.coinmarketcap.com/v1/cryptocurrency/listings/latest'\n",
    "parameters = {\n",
    "  'start':'1',\n",
    "  'limit':'1',\n",
    "  'convert':'USD'\n",
    "}\n",
    "headers = {\n",
    "  'Accepts': 'application/json',\n",
    "  'X-CMC_PRO_API_KEY': apikey,\n",
    "}\n",
    "\n",
    "session = Session()\n",
    "session.headers.update(headers)\n",
    "\n",
    "# create a new run and save it to our local SQLite DB\n",
    "run_timestamp = datetime.now()\n",
    "run = Run(symbol=symbol, timestamp = run_timestamp)\n",
    "run.save()\n",
    "current_run_id = run.id \n",
    "print(f'run_id: {current_run_id} - timestamp: {run_timestamp} - interval: {query_interval} - number of queries: {query_number}')\n",
    "\n",
    "# query the coinmarketcap API every x seconds\n",
    "for s in range(0, query_number):\n",
    "    try:\n",
    "        response = session.get(url, params=parameters)\n",
    "        data = json.loads(response.text)\n",
    "        #print(data)\n",
    "        \n",
    "        # response - quote\n",
    "        data_quote = data['data'][0]['quote']['USD']\n",
    "        price = np.round(data_quote['price'], 1) # the price\n",
    "        volume_24 = np.round(data_quote['volume_24h'], 1) # the volume in the last 24 hours\n",
    "        \n",
    "        # response - status\n",
    "        data_status = data['status']\n",
    "        api_timestamp = data_status['timestamp'] # the timestamp of the pricepoint\n",
    "        api_credits = data_status['credit_count'] # the number of credits spent on the last request\n",
    "        \n",
    "        # create a new pricepoint and save it to the SQLite db\n",
    "        new_pricepoint = Price(datetime=api_timestamp, price=price, volume_24=volume_24, runid=current_run_id)\n",
    "        id = new_pricepoint.save()\n",
    "\n",
    "        # display what we have just saved\n",
    "        print(f'request number: {s} - added {price} at {api_timestamp} - 24 hour volume: {volume_24} - credits used: {api_credits}')      \n",
    "\n",
    "    except (ConnectionError, Timeout, TooManyRedirects) as e:\n",
    "        print(e)\n",
    "    time.sleep(query_interval)\n",
    "print('finished')"
   ]
  },
  {
   "cell_type": "markdown",
   "metadata": {},
   "source": [
    "# Step #3 Querying the Data from Our SQL Table"
   ]
  },
  {
   "cell_type": "code",
   "execution_count": 5,
   "metadata": {},
   "outputs": [
    {
     "data": {
      "text/html": [
       "<div>\n",
       "<style scoped>\n",
       "    .dataframe tbody tr th:only-of-type {\n",
       "        vertical-align: middle;\n",
       "    }\n",
       "\n",
       "    .dataframe tbody tr th {\n",
       "        vertical-align: top;\n",
       "    }\n",
       "\n",
       "    .dataframe thead th {\n",
       "        text-align: right;\n",
       "    }\n",
       "</style>\n",
       "<table border=\"1\" class=\"dataframe\">\n",
       "  <thead>\n",
       "    <tr style=\"text-align: right;\">\n",
       "      <th></th>\n",
       "      <th>id</th>\n",
       "      <th>timestamp</th>\n",
       "      <th>symbol</th>\n",
       "    </tr>\n",
       "  </thead>\n",
       "  <tbody>\n",
       "    <tr>\n",
       "      <th>0</th>\n",
       "      <td>5</td>\n",
       "      <td>2022-10-22 20:12:59.632802</td>\n",
       "      <td>BTCUSD</td>\n",
       "    </tr>\n",
       "  </tbody>\n",
       "</table>\n",
       "</div>"
      ],
      "text/plain": [
       "   id                  timestamp  symbol\n",
       "0   5 2022-10-22 20:12:59.632802  BTCUSD"
      ]
     },
     "execution_count": 5,
     "metadata": {},
     "output_type": "execute_result"
    }
   ],
   "source": [
    "query = Run.select().where(Run.id==current_run_id)\n",
    "run_overview = pd.DataFrame(list(query.dicts()))\n",
    "run_overview"
   ]
  },
  {
   "cell_type": "code",
   "execution_count": 6,
   "metadata": {},
   "outputs": [
    {
     "name": "stdout",
     "output_type": "stream",
     "text": [
      "     id                  datetime     volume_24    price  runid\n",
      "0   125  2022-10-22T18:13:00.433Z  1.803869e+10  19158.7      5\n",
      "1   126  2022-10-22T18:13:10.591Z  1.803869e+10  19158.7      5\n",
      "2   127  2022-10-22T18:13:20.721Z  1.803869e+10  19158.7      5\n",
      "3   128  2022-10-22T18:13:30.869Z  1.803869e+10  19158.7      5\n",
      "4   129  2022-10-22T18:13:41.285Z  1.803869e+10  19158.7      5\n",
      "..  ...                       ...           ...      ...    ...\n",
      "95  220  2022-10-22T18:29:32.356Z  1.785085e+10  19168.4      5\n",
      "96  221  2022-10-22T18:29:42.491Z  1.785085e+10  19168.4      5\n",
      "97  222  2022-10-22T18:29:52.635Z  1.785085e+10  19168.4      5\n",
      "98  223  2022-10-22T18:30:03.988Z  1.785085e+10  19168.4      5\n",
      "99  224  2022-10-22T18:30:15.293Z  1.785085e+10  19168.4      5\n",
      "\n",
      "[100 rows x 5 columns]\n"
     ]
    },
    {
     "data": {
      "text/plain": [
       "(array([19287.76041667, 19287.76388889, 19287.76736111, 19287.77083333]),\n",
       " [Text(0, 0, ''), Text(0, 0, ''), Text(0, 0, ''), Text(0, 0, '')])"
      ]
     },
     "execution_count": 6,
     "metadata": {},
     "output_type": "execute_result"
    },
    {
     "data": {
      "image/png": "[encoded data removed]",
      "text/plain": [
       "<Figure size 720x576 with 1 Axes>"
      ]
     },
     "metadata": {
      "needs_background": "light"
     },
     "output_type": "display_data"
    }
   ],
   "source": [
    "query = Price.select().where(Price.runid==current_run_id)\n",
    "df_prices = pd.DataFrame(list(query.dicts()))\n",
    "print(df_prices)\n",
    "\n",
    "register_matplotlib_converters()\n",
    "fig, ax = plt.subplots(figsize=(10, 8))\n",
    "plt.title('BTC prices from the coinmarketcap API', fontsize=14)\n",
    "datetimes = pd.to_datetime(df_prices['datetime'])\n",
    "\n",
    "sns.lineplot(data=df_prices, x=datetimes, y=\"price\")\n",
    "#ax.set_xlim([df_prices['datetime'].min(),df_prices['datetime'].max()])\n",
    "#ax.xaxis.set_major_locator(mdates.MinuteLocator())\n",
    "plt.xticks(rotation=75)"
   ]
  }
 ],
 "metadata": {
  "kernelspec": {
   "display_name": "Python 3.8.8 ('base')",
   "language": "python",
   "name": "python3"
  },
  "language_info": {
   "codemirror_mode": {
    "name": "ipython",
    "version": 3
   },
   "file_extension": ".py",
   "mimetype": "text/x-python",
   "name": "python",
   "nbconvert_exporter": "python",
   "pygments_lexer": "ipython3",
   "version": "3.8.8"
  },
  "vscode": {
   "interpreter": {
    "hash": "38b6c26bd9870504e27f7883362b971e6afb0a02e23f00032a9076a16838eb05"
   }
  }
 },
 "nbformat": 4,
 "nbformat_minor": 4
}
